{
 "cells": [
  {
   "cell_type": "code",
   "execution_count": 1,
   "metadata": {},
   "outputs": [],
   "source": [
    "import pybullet as p\n",
    "import numpy as np\n",
    "p.connect(p.GUI)\n",
    "ur5 = p.loadURDF(\"ur5e2.urdf\",[0,0,0], useFixedBase = True)"
   ]
  },
  {
   "cell_type": "code",
   "execution_count": 2,
   "metadata": {},
   "outputs": [
    {
     "data": {
      "text/plain": [
       "22"
      ]
     },
     "execution_count": 2,
     "metadata": {},
     "output_type": "execute_result"
    }
   ],
   "source": [
    "n_joints = p.getNumJoints(ur5)\n",
    "n_joints"
   ]
  },
  {
   "cell_type": "code",
   "execution_count": 3,
   "metadata": {},
   "outputs": [
    {
     "name": "stdout",
     "output_type": "stream",
     "text": [
      "0 b'shoulder_pan_joint'\n",
      "1 b'shoulder_lift_joint'\n",
      "2 b'elbow_joint'\n",
      "3 b'wrist_1_joint'\n",
      "4 b'wrist_2_joint'\n",
      "5 b'wrist_3_joint'\n",
      "6 b'ee_fixed_joint'\n",
      "7 b'grasptarget_hand'\n",
      "8 b'wrist_3_link-tool0_fixed_joint'\n",
      "9 b'tool_joint'\n",
      "10 b'robotiq_2f_85_left_driver_mimic_joint'\n",
      "11 b'robotiq_2f_85_left_coupler_joint'\n",
      "12 b'robotiq_2f_85_left_spring_link_joint'\n",
      "13 b'robotiq_2f_85_right_driver_mimic_joint'\n",
      "14 b'robotiq_2f_85_right_coupler_joint'\n",
      "15 b'robotiq_2f_85_right_spring_link_joint'\n",
      "16 b'coupler_joint'\n",
      "17 b'robotiq_ur_coupler_robotiq_2f_85_base_joint'\n",
      "18 b'robotiq_2f_85_left_driver_joint'\n",
      "19 b'robotiq_2f_85_left_pad_joint'\n",
      "20 b'robotiq_2f_85_right_driver_joint'\n",
      "21 b'robotiq_2f_85_right_pad_joint'\n"
     ]
    }
   ],
   "source": [
    "\n",
    "jointNames = [p.getJointInfo(ur5, i)[1] for i in range(0,n_joints)]\n",
    "for i, n in enumerate(jointNames):\n",
    "    print(i,n)"
   ]
  },
  {
   "cell_type": "code",
   "execution_count": 19,
   "metadata": {},
   "outputs": [],
   "source": [
    "def close_gripper(percent):\n",
    "    # left/ right driver appears to close at 0.03\n",
    "    percent -= 0.2\n",
    "    driver = percent*0.055\n",
    "    p.setJointMotorControl2(ur5, 18, p.POSITION_CONTROL, driver,\n",
    "                                                     force=100)\n",
    "#     p.setJointMotorControl2(ur5, 20, p.POSITION_CONTROL, driver,\n",
    "#                                                      force=100)\n",
    "    #p.resetJointState(ur5, 20, driver)\n",
    "    spring_link = percent * 0.5\n",
    "    p.resetJointState(ur5, 12, spring_link)\n",
    "    p.resetJointState(ur5, 15, spring_link)\n",
    "    driver_mimic = percent * 0.8\n",
    "    p.resetJointState(ur5, 10, driver_mimic)\n",
    "    p.resetJointState(ur5, 13, driver_mimic)\n",
    "    \n",
    "close_gripper(0)\n",
    "for i in range(0,100):\n",
    "        p.stepSimulation() "
   ]
  },
  {
   "cell_type": "code",
   "execution_count": 20,
   "metadata": {},
   "outputs": [],
   "source": [
    "    \n",
    "close_gripper(1)\n",
    "for i in range(0,100):\n",
    "        p.stepSimulation() "
   ]
  },
  {
   "cell_type": "code",
   "execution_count": 22,
   "metadata": {},
   "outputs": [
    {
     "ename": "KeyboardInterrupt",
     "evalue": "",
     "output_type": "error",
     "traceback": [
      "\u001b[1;31m---------------------------------------------------------------------------\u001b[0m",
      "\u001b[1;31mKeyboardInterrupt\u001b[0m                         Traceback (most recent call last)",
      "\u001b[1;32m<ipython-input-22-ea859008ba5f>\u001b[0m in \u001b[0;36m<module>\u001b[1;34m\u001b[0m\n\u001b[0;32m      3\u001b[0m     \u001b[1;32mfor\u001b[0m \u001b[0mi\u001b[0m \u001b[1;32min\u001b[0m \u001b[0mrange\u001b[0m\u001b[1;33m(\u001b[0m\u001b[1;36m0\u001b[0m\u001b[1;33m,\u001b[0m\u001b[1;36m100\u001b[0m\u001b[1;33m)\u001b[0m\u001b[1;33m:\u001b[0m\u001b[1;33m\u001b[0m\u001b[1;33m\u001b[0m\u001b[0m\n\u001b[0;32m      4\u001b[0m         \u001b[0mp\u001b[0m\u001b[1;33m.\u001b[0m\u001b[0mstepSimulation\u001b[0m\u001b[1;33m(\u001b[0m\u001b[1;33m)\u001b[0m\u001b[1;33m\u001b[0m\u001b[1;33m\u001b[0m\u001b[0m\n\u001b[1;32m----> 5\u001b[1;33m     \u001b[0mclose_gripper\u001b[0m\u001b[1;33m(\u001b[0m\u001b[1;36m1\u001b[0m\u001b[1;33m)\u001b[0m\u001b[1;33m\u001b[0m\u001b[1;33m\u001b[0m\u001b[0m\n\u001b[0m\u001b[0;32m      6\u001b[0m     \u001b[1;32mfor\u001b[0m \u001b[0mi\u001b[0m \u001b[1;32min\u001b[0m \u001b[0mrange\u001b[0m\u001b[1;33m(\u001b[0m\u001b[1;36m0\u001b[0m\u001b[1;33m,\u001b[0m\u001b[1;36m100\u001b[0m\u001b[1;33m)\u001b[0m\u001b[1;33m:\u001b[0m\u001b[1;33m\u001b[0m\u001b[1;33m\u001b[0m\u001b[0m\n\u001b[0;32m      7\u001b[0m         \u001b[0mp\u001b[0m\u001b[1;33m.\u001b[0m\u001b[0mstepSimulation\u001b[0m\u001b[1;33m(\u001b[0m\u001b[1;33m)\u001b[0m\u001b[1;33m\u001b[0m\u001b[1;33m\u001b[0m\u001b[0m\n",
      "\u001b[1;32m<ipython-input-15-b33dc1496d2f>\u001b[0m in \u001b[0;36mclose_gripper\u001b[1;34m(percent)\u001b[0m\n\u001b[0;32m     11\u001b[0m     \u001b[0mp\u001b[0m\u001b[1;33m.\u001b[0m\u001b[0mresetJointState\u001b[0m\u001b[1;33m(\u001b[0m\u001b[0mur5\u001b[0m\u001b[1;33m,\u001b[0m \u001b[1;36m12\u001b[0m\u001b[1;33m,\u001b[0m \u001b[0mspring_link\u001b[0m\u001b[1;33m)\u001b[0m\u001b[1;33m\u001b[0m\u001b[1;33m\u001b[0m\u001b[0m\n\u001b[0;32m     12\u001b[0m     \u001b[0mp\u001b[0m\u001b[1;33m.\u001b[0m\u001b[0mresetJointState\u001b[0m\u001b[1;33m(\u001b[0m\u001b[0mur5\u001b[0m\u001b[1;33m,\u001b[0m \u001b[1;36m15\u001b[0m\u001b[1;33m,\u001b[0m \u001b[0mspring_link\u001b[0m\u001b[1;33m)\u001b[0m\u001b[1;33m\u001b[0m\u001b[1;33m\u001b[0m\u001b[0m\n\u001b[1;32m---> 13\u001b[1;33m     \u001b[0mdriver_mimic\u001b[0m \u001b[1;33m=\u001b[0m \u001b[0mpercent\u001b[0m \u001b[1;33m*\u001b[0m \u001b[1;36m0.8\u001b[0m\u001b[1;33m\u001b[0m\u001b[1;33m\u001b[0m\u001b[0m\n\u001b[0m\u001b[0;32m     14\u001b[0m     \u001b[0mp\u001b[0m\u001b[1;33m.\u001b[0m\u001b[0mresetJointState\u001b[0m\u001b[1;33m(\u001b[0m\u001b[0mur5\u001b[0m\u001b[1;33m,\u001b[0m \u001b[1;36m10\u001b[0m\u001b[1;33m,\u001b[0m \u001b[0mdriver_mimic\u001b[0m\u001b[1;33m)\u001b[0m\u001b[1;33m\u001b[0m\u001b[1;33m\u001b[0m\u001b[0m\n\u001b[0;32m     15\u001b[0m     \u001b[0mp\u001b[0m\u001b[1;33m.\u001b[0m\u001b[0mresetJointState\u001b[0m\u001b[1;33m(\u001b[0m\u001b[0mur5\u001b[0m\u001b[1;33m,\u001b[0m \u001b[1;36m13\u001b[0m\u001b[1;33m,\u001b[0m \u001b[0mdriver_mimic\u001b[0m\u001b[1;33m)\u001b[0m\u001b[1;33m\u001b[0m\u001b[1;33m\u001b[0m\u001b[0m\n",
      "\u001b[1;31mKeyboardInterrupt\u001b[0m: "
     ]
    }
   ],
   "source": [
    "while(1):\n",
    "    close_gripper(0)\n",
    "    for i in range(0,100):\n",
    "        p.stepSimulation()    \n",
    "    close_gripper(1)\n",
    "    for i in range(0,100):\n",
    "        p.stepSimulation()"
   ]
  },
  {
   "cell_type": "code",
   "execution_count": 18,
   "metadata": {},
   "outputs": [],
   "source": [
    "p.removeConstraint(c)\n",
    "c = p.createConstraint(ur5,\n",
    "                        20,\n",
    "                        ur5,\n",
    "                        18,\n",
    "                        jointType=p.JOINT_PRISMATIC,\n",
    "                        jointAxis=[0, 0, 1],\n",
    "                        parentFramePosition=[0, 0, 0],\n",
    "                        childFramePosition=[0, 0, 0])\n",
    "p.changeConstraint(c, relativePositionTarget=-1, maxForce=50)"
   ]
  },
  {
   "cell_type": "code",
   "execution_count": null,
   "metadata": {},
   "outputs": [],
   "source": []
  },
  {
   "cell_type": "code",
   "execution_count": null,
   "metadata": {},
   "outputs": [],
   "source": []
  },
  {
   "cell_type": "code",
   "execution_count": 27,
   "metadata": {},
   "outputs": [],
   "source": [
    "c = p.createConstraint(ur5,\n",
    "                        18,\n",
    "                        ur5,\n",
    "                        20,\n",
    "                        jointType=p.JOINT_PRISMATIC,\n",
    "                        jointAxis=[0, 1, 0],\n",
    "                        parentFramePosition=[0, 0, 0],\n",
    "                        childFramePosition=[0, 0, 0])\n",
    "p.changeConstraint(c, relativePositionTarget=0, maxForce=50)"
   ]
  },
  {
   "cell_type": "code",
   "execution_count": 5,
   "metadata": {},
   "outputs": [],
   "source": [
    "joints_indices = [0,1,2,3,4,5]\n",
    "controls= []\n",
    "JOINTS = True"
   ]
  },
  {
   "cell_type": "code",
   "execution_count": 6,
   "metadata": {},
   "outputs": [],
   "source": [
    "def add_xyz_rpy_controls():\n",
    "    controls = []\n",
    "    orn = [0,0,0]\n",
    "    controls.append(p.addUserDebugParameter(\"X\", -1, 1, 0))\n",
    "    controls.append(p.addUserDebugParameter(\"Y\", -1, 1, 0.00))\n",
    "    controls.append(p.addUserDebugParameter(\"Z\", -1, 1, 0.2))\n",
    "    controls.append(p.addUserDebugParameter(\"R\", -4, 4, orn[0]))\n",
    "    controls.append(p.addUserDebugParameter(\"P\", -4, 4, orn[1]))\n",
    "    controls.append(p.addUserDebugParameter(\"Y\", -4,4, orn[2]))\n",
    "    controls.append(p.addUserDebugParameter(\"grip\", 0, 1, 0))\n",
    "    return controls\n",
    "\n",
    "def add_joint_controls():\n",
    "    for i in joints_indices:\n",
    "        controls.append(p.addUserDebugParameter(str(i), -np.pi, np.pi, 0))\n",
    "    \n",
    "if JOINTS:\n",
    "    add_joint_controls()\n",
    "else:\n",
    "    add_xyz_rpy_controls()"
   ]
  },
  {
   "cell_type": "code",
   "execution_count": 13,
   "metadata": {},
   "outputs": [],
   "source": [
    "default_joints = [-0.9572998713387112,\n",
    "                             -0.8639503472294617,\n",
    "                             -1.9830303329043686,\n",
    "                             -1.8654094162934607,\n",
    "                             1.5707874376070445,\n",
    "                             0.6135043943552552]\n",
    "\n",
    "#default_joints  = [1.389, -1.058, 1.554, 1.124, 1.587, 0.562]\n",
    "# sets the arm to the current joint positions so IK calcs are accurate\n",
    "def set_states(states):\n",
    "    for idx, i in enumerate(joints_indices):\n",
    "        p.resetJointState(ur5, i, states[idx])\n",
    "        \n",
    "set_states(default_joints)\n"
   ]
  },
  {
   "cell_type": "code",
   "execution_count": null,
   "metadata": {},
   "outputs": [],
   "source": [
    "ee_index=6\n",
    "while(1):\n",
    "    poses = []\n",
    "    for c in controls:\n",
    "        poses.append(p.readUserDebugParameter(c))\n",
    "    if JOINTS:\n",
    "        for i in joints_indices:\n",
    "            p.changeDynamics(ur5, i, linearDamping=0, angularDamping=0)\n",
    "            p.resetJointState(ur5, i, poses[i])\n",
    "        state = p.getLinkState(ur5, ee_index, computeLinkVelocity=1)\n",
    "        orn = state[1]\n",
    "        #print(p.getEulerFromQuaternion(orn))\n",
    "    else:\n",
    "        pass"
   ]
  },
  {
   "cell_type": "code",
   "execution_count": 6,
   "metadata": {},
   "outputs": [],
   "source": [
    "controls = []\n",
    "for i in range(22):\n",
    "        controls.append(p.addUserDebugParameter(str(i), -np.pi, np.pi, 0))\n",
    "ee_index=6"
   ]
  },
  {
   "cell_type": "code",
   "execution_count": 7,
   "metadata": {},
   "outputs": [
    {
     "ename": "NameError",
     "evalue": "name 'poses' is not defined",
     "output_type": "error",
     "traceback": [
      "\u001b[0;31m---------------------------------------------------------------------------\u001b[0m",
      "\u001b[0;31mNameError\u001b[0m                                 Traceback (most recent call last)",
      "\u001b[0;32m<ipython-input-7-f890240654d8>\u001b[0m in \u001b[0;36m<module>\u001b[0;34m\u001b[0m\n\u001b[0;32m----> 1\u001b[0;31m \u001b[0mposes\u001b[0m\u001b[0;34m\u001b[0m\u001b[0;34m\u001b[0m\u001b[0m\n\u001b[0m",
      "\u001b[0;31mNameError\u001b[0m: name 'poses' is not defined"
     ]
    }
   ],
   "source": [
    "poses"
   ]
  },
  {
   "cell_type": "code",
   "execution_count": 22,
   "metadata": {},
   "outputs": [],
   "source": [
    "def calc_angles(pos,ori):\n",
    "    for i in range(0,10): # converge on the solution\n",
    "        angles = p.calculateInverseKinematics(ur5,ee_index, pos,ori)[0:6]\n",
    "        set_states(angles)\n",
    "        \n",
    "    return p.calculateInverseKinematics(ur5,ee_index, pos,ori)[0:6]\n",
    "\n",
    "def get_position():\n",
    "    return p.getLinkState(ur5,ee_index)[0:2]\n",
    "\n"
   ]
  },
  {
   "cell_type": "code",
   "execution_count": 46,
   "metadata": {},
   "outputs": [],
   "source": [
    "import time"
   ]
  },
  {
   "cell_type": "code",
   "execution_count": 25,
   "metadata": {},
   "outputs": [
    {
     "name": "stdout",
     "output_type": "stream",
     "text": [
      "(0.0, 1.5707963267948966, 1.5707962985891812)\n",
      "(-0.0050628002345312366, 0.23993969610998148, 0.5000003143099447)\n"
     ]
    }
   ],
   "source": [
    "set_states(default_joints)\n",
    "pos, ori = get_position()\n",
    "print(p.getEulerFromQuaternion(ori))\n",
    "print(pos)"
   ]
  },
  {
   "cell_type": "code",
   "execution_count": 52,
   "metadata": {},
   "outputs": [],
   "source": [
    "default_ori = p.getQuaternionFromEuler([0,0,0])\n",
    "default_pos = (0,0.4,0.3)"
   ]
  },
  {
   "cell_type": "code",
   "execution_count": 53,
   "metadata": {},
   "outputs": [],
   "source": [
    "states = calc_angles(default_pos, default_ori)\n",
    "set_states(states)"
   ]
  },
  {
   "cell_type": "code",
   "execution_count": 47,
   "metadata": {},
   "outputs": [],
   "source": [
    "default_ori = p.getQuaternionFromEuler([0,np.pi/2,np.pi/2])\n",
    "default_pos = (0,0.4,0.3)\n",
    "states = calc_angles(default_pos, default_ori)\n",
    "set_states(states)\n",
    "time.sleep(1)\n",
    "default_ori = p.getQuaternionFromEuler([0,np.pi,np.pi/2])\n",
    "default_pos = (0,0.4,0.3)\n",
    "states = calc_angles(default_pos, default_ori)\n",
    "set_states(states)\n",
    "time.sleep(1)\n",
    "default_ori = p.getQuaternionFromEuler([0,np.pi,np.pi])\n",
    "default_pos = (0,0.4,0.3)\n",
    "states = calc_angles(default_pos, default_ori)\n",
    "set_states(states)\n",
    "time.sleep(1)\n",
    "default_ori = p.getQuaternionFromEuler([0,np.pi/2,np.pi])\n",
    "default_pos = (0,0.4,0.3)\n",
    "states = calc_angles(default_pos, default_ori)\n",
    "set_states(states)\n",
    "time.sleep(1)\n",
    "default_ori = p.getQuaternionFromEuler([0,0,np.pi/2])\n",
    "default_pos = (0,0.4,0.3)\n",
    "states = calc_angles(default_pos, default_ori)\n",
    "set_states(states)\n",
    "time.sleep(1)\n",
    "default_ori = p.getQuaternionFromEuler([0,np.pi/2,0])\n",
    "default_pos = (0,0.4,0.3)\n",
    "states = calc_angles(default_pos, default_ori)\n",
    "set_states(states)\n",
    "time.sleep(1)"
   ]
  },
  {
   "cell_type": "code",
   "execution_count": 6,
   "metadata": {},
   "outputs": [],
   "source": [
    "poses = []\n",
    "for i in range(0, n_joints):\n",
    "    poses.append(p.readUserDebugParameter(controls[i]))\n",
    "for j in range(n_joints):\n",
    "    info = p.getJointInfo(ur5, j)\n",
    "        # print(\"info=\",info)\n",
    "    jointName = info[1]\n",
    "    jointType = info[2]\n",
    "    #print(jointName)\n",
    "    p.changeDynamics(ur5, j, linearDamping=0, angularDamping=0)\n",
    "    p.resetJointState(ur5, j, poses[j])"
   ]
  },
  {
   "cell_type": "code",
   "execution_count": 15,
   "metadata": {},
   "outputs": [
    {
     "name": "stdout",
     "output_type": "stream",
     "text": [
      "[0.37894725799560547, 0.6315789222717285, 0.0, 0.0, 0.0, 0.0, 0.0, 0.0, 0.0, 0.0, 0.0, 0.0, 0.0, 0.0, 0.0, 0.0, 0.0, 0.0, 0.0, 0.0, 0.0, 0.0, 0.0, 0.0]\n"
     ]
    }
   ],
   "source": [
    "print(poses)"
   ]
  },
  {
   "cell_type": "code",
   "execution_count": 4,
   "metadata": {},
   "outputs": [],
   "source": [
    "\n",
    "joints_indices = [1,2,3,4,5,6]"
   ]
  },
  {
   "cell_type": "code",
   "execution_count": 6,
   "metadata": {},
   "outputs": [
    {
     "data": {
      "text/plain": [
       "[b'shoulder_pan_joint',\n",
       " b'shoulder_lift_joint',\n",
       " b'elbow_joint',\n",
       " b'wrist_1_joint',\n",
       " b'wrist_2_joint',\n",
       " b'wrist_3_joint']"
      ]
     },
     "execution_count": 6,
     "metadata": {},
     "output_type": "execute_result"
    }
   ],
   "source": [
    "\n",
    "jointNames = [p.getJointInfo(ur5, i)[1] for i in joints_indices]\n",
    "jointNames"
   ]
  },
  {
   "cell_type": "code",
   "execution_count": 262,
   "metadata": {},
   "outputs": [],
   "source": [
    "\n",
    "defaut_joints = [-0.9572998713387112,\n",
    "                             -0.8639503472294617,\n",
    "                             -1.9830303329043686,\n",
    "                             -1.8654094162934607,\n",
    "                             1.5707874376070445,\n",
    "                             0.6135043943552552]\n",
    "default_ori = p.getQuaternionFromEuler([np.pi,0,0])\n",
    "default_pos = (0,0.0,0.5)\n",
    "        \n",
    "ee_index=9"
   ]
  },
  {
   "cell_type": "code",
   "execution_count": 19,
   "metadata": {},
   "outputs": [],
   "source": [
    "\n",
    "# sets the arm to the current joint positions so IK calcs are accurate\n",
    "def set_states(states):\n",
    "    for idx, i in enumerate(joints_indices):\n",
    "        p.resetJointState(ur5, i, states[idx])\n",
    "\n",
    "\n",
    "def get_position():\n",
    "    return p.getLinkState(ur5,ee_index)[0:2]\n",
    "    \n",
    "def calc_angles(pos,ori):\n",
    "    for i in range(0,10): # converge on the solution\n",
    "        angles = p.calculateInverseKinematics(ur5,ee_index, pos,ori)[0:6]\n",
    "        set_states(angles)\n",
    "        \n",
    "    return p.calculateInverseKinematics(ur5,ee_index, pos,ori)[0:6]"
   ]
  },
  {
   "cell_type": "code",
   "execution_count": 46,
   "metadata": {},
   "outputs": [],
   "source": [
    "\n",
    "\n",
    "calc_angles(pos, ori)"
   ]
  },
  {
   "cell_type": "code",
   "execution_count": 117,
   "metadata": {},
   "outputs": [],
   "source": []
  },
  {
   "cell_type": "code",
   "execution_count": 259,
   "metadata": {},
   "outputs": [],
   "source": []
  },
  {
   "cell_type": "code",
   "execution_count": null,
   "metadata": {},
   "outputs": [],
   "source": []
  }
 ],
 "metadata": {
  "kernelspec": {
   "display_name": "Python 3",
   "language": "python",
   "name": "python3"
  },
  "language_info": {
   "codemirror_mode": {
    "name": "ipython",
    "version": 3
   },
   "file_extension": ".py",
   "mimetype": "text/x-python",
   "name": "python",
   "nbconvert_exporter": "python",
   "pygments_lexer": "ipython3",
   "version": "3.7.4"
  }
 },
 "nbformat": 4,
 "nbformat_minor": 2
}
